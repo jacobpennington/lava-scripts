{
 "cells": [
  {
   "cell_type": "markdown",
   "metadata": {},
   "source": [
    "Import process, CPU model, and CPU run configurations & conditions"
   ]
  },
  {
   "cell_type": "code",
   "execution_count": null,
   "metadata": {},
   "outputs": [],
   "source": [
    "# NOTE: This notebook won't actually work yet since the process & model code\n",
    "#       isn't finished, just sketching out the pieces that need to be in place\n",
    "#       for initial testing.\n",
    "\n",
    "from lava.magma.core.run_configs import Loihi1SimCfg   # simulate on CPU\n",
    "from lava.magma.core.run_conditions import RunSteps\n",
    "\n",
    "from mylava.proc.glif.process import GLIF\n",
    "from mylava.proc.glif.models import PyGlifModelCPU\n",
    "\n",
    "glif_kwargs = {\n",
    "    'shape': (2,),  # number of neurons\n",
    "    # other kwargs TODO\n",
    "}\n",
    "glif = GLIF(**glif_kwargs)"
   ]
  },
  {
   "cell_type": "markdown",
   "metadata": {},
   "source": [
    "Run simulation on CPU for some number of steps"
   ]
  },
  {
   "cell_type": "code",
   "execution_count": null,
   "metadata": {},
   "outputs": [],
   "source": [
    "glif.run(condition=RunSteps(num_steps=1), run_cfg=Loihi1SimCfg())"
   ]
  },
  {
   "cell_type": "markdown",
   "metadata": {},
   "source": [
    "Dump variable values to text"
   ]
  },
  {
   "cell_type": "code",
   "execution_count": null,
   "metadata": {},
   "outputs": [],
   "source": [
    "glif.print_variables()"
   ]
  },
  {
   "cell_type": "markdown",
   "metadata": {},
   "source": [
    "End simulation"
   ]
  },
  {
   "cell_type": "code",
   "execution_count": null,
   "metadata": {},
   "outputs": [],
   "source": [
    "glif.stop()"
   ]
  }
 ],
 "metadata": {
  "kernelspec": {
   "display_name": "Python 3.9.10 ('lava')",
   "language": "python",
   "name": "python3"
  },
  "language_info": {
   "name": "python",
   "version": "3.9.10"
  },
  "orig_nbformat": 4,
  "vscode": {
   "interpreter": {
    "hash": "e6a0422ed8067c88058cb69f0c66832f666ed7b9d130597255c80c1767d2e376"
   }
  }
 },
 "nbformat": 4,
 "nbformat_minor": 2
}
